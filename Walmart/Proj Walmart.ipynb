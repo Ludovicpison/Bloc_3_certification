{
 "cells": [
  {
   "cell_type": "code",
   "execution_count": 1,
   "metadata": {},
   "outputs": [],
   "source": [
    "import numpy as np\n",
    "import pandas as pd \n",
    "import scipy.stats as stats\n",
    "from sklearn.model_selection import train_test_split\n",
    "from sklearn.impute import SimpleImputer\n",
    "from sklearn.preprocessing import  StandardScaler\n",
    "from sklearn.compose import ColumnTransformer\n",
    "from sklearn.linear_model import Lasso\n",
    "from sklearn.metrics import r2_score, mean_squared_error\n",
    "from sklearn.linear_model import LinearRegression, Ridge\n",
    "from sklearn import metrics\n",
    "from sklearn import linear_model\n",
    "from sklearn.pipeline import Pipeline\n",
    "\n"
   ]
  },
  {
   "cell_type": "code",
   "execution_count": 2,
   "metadata": {},
   "outputs": [],
   "source": [
    "dataset = pd.read_csv('Walmart_Store_sales.csv')"
   ]
  },
  {
   "cell_type": "code",
   "execution_count": 3,
   "metadata": {},
   "outputs": [
    {
     "data": {
      "text/html": [
       "<div>\n",
       "<style scoped>\n",
       "    .dataframe tbody tr th:only-of-type {\n",
       "        vertical-align: middle;\n",
       "    }\n",
       "\n",
       "    .dataframe tbody tr th {\n",
       "        vertical-align: top;\n",
       "    }\n",
       "\n",
       "    .dataframe thead th {\n",
       "        text-align: right;\n",
       "    }\n",
       "</style>\n",
       "<table border=\"1\" class=\"dataframe\">\n",
       "  <thead>\n",
       "    <tr style=\"text-align: right;\">\n",
       "      <th></th>\n",
       "      <th>Store</th>\n",
       "      <th>Date</th>\n",
       "      <th>Weekly_Sales</th>\n",
       "      <th>Holiday_Flag</th>\n",
       "      <th>Temperature</th>\n",
       "      <th>Fuel_Price</th>\n",
       "      <th>CPI</th>\n",
       "      <th>Unemployment</th>\n",
       "    </tr>\n",
       "  </thead>\n",
       "  <tbody>\n",
       "    <tr>\n",
       "      <th>0</th>\n",
       "      <td>6.0</td>\n",
       "      <td>18-02-2011</td>\n",
       "      <td>1572117.54</td>\n",
       "      <td>NaN</td>\n",
       "      <td>59.61</td>\n",
       "      <td>3.045</td>\n",
       "      <td>214.777523</td>\n",
       "      <td>6.858</td>\n",
       "    </tr>\n",
       "    <tr>\n",
       "      <th>1</th>\n",
       "      <td>13.0</td>\n",
       "      <td>25-03-2011</td>\n",
       "      <td>1807545.43</td>\n",
       "      <td>0.0</td>\n",
       "      <td>42.38</td>\n",
       "      <td>3.435</td>\n",
       "      <td>128.616064</td>\n",
       "      <td>7.470</td>\n",
       "    </tr>\n",
       "    <tr>\n",
       "      <th>2</th>\n",
       "      <td>17.0</td>\n",
       "      <td>27-07-2012</td>\n",
       "      <td>NaN</td>\n",
       "      <td>0.0</td>\n",
       "      <td>NaN</td>\n",
       "      <td>NaN</td>\n",
       "      <td>130.719581</td>\n",
       "      <td>5.936</td>\n",
       "    </tr>\n",
       "    <tr>\n",
       "      <th>3</th>\n",
       "      <td>11.0</td>\n",
       "      <td>NaN</td>\n",
       "      <td>1244390.03</td>\n",
       "      <td>0.0</td>\n",
       "      <td>84.57</td>\n",
       "      <td>NaN</td>\n",
       "      <td>214.556497</td>\n",
       "      <td>7.346</td>\n",
       "    </tr>\n",
       "    <tr>\n",
       "      <th>4</th>\n",
       "      <td>6.0</td>\n",
       "      <td>28-05-2010</td>\n",
       "      <td>1644470.66</td>\n",
       "      <td>0.0</td>\n",
       "      <td>78.89</td>\n",
       "      <td>2.759</td>\n",
       "      <td>212.412888</td>\n",
       "      <td>7.092</td>\n",
       "    </tr>\n",
       "  </tbody>\n",
       "</table>\n",
       "</div>"
      ],
      "text/plain": [
       "   Store        Date  Weekly_Sales  Holiday_Flag  Temperature  Fuel_Price  \\\n",
       "0    6.0  18-02-2011    1572117.54           NaN        59.61       3.045   \n",
       "1   13.0  25-03-2011    1807545.43           0.0        42.38       3.435   \n",
       "2   17.0  27-07-2012           NaN           0.0          NaN         NaN   \n",
       "3   11.0         NaN    1244390.03           0.0        84.57         NaN   \n",
       "4    6.0  28-05-2010    1644470.66           0.0        78.89       2.759   \n",
       "\n",
       "          CPI  Unemployment  \n",
       "0  214.777523         6.858  \n",
       "1  128.616064         7.470  \n",
       "2  130.719581         5.936  \n",
       "3  214.556497         7.346  \n",
       "4  212.412888         7.092  "
      ]
     },
     "execution_count": 3,
     "metadata": {},
     "output_type": "execute_result"
    }
   ],
   "source": [
    "dataset.head()\n"
   ]
  },
  {
   "cell_type": "code",
   "execution_count": 4,
   "metadata": {},
   "outputs": [
    {
     "name": "stdout",
     "output_type": "stream",
     "text": [
      "<class 'pandas.core.frame.DataFrame'>\n",
      "RangeIndex: 150 entries, 0 to 149\n",
      "Data columns (total 8 columns):\n",
      " #   Column        Non-Null Count  Dtype  \n",
      "---  ------        --------------  -----  \n",
      " 0   Store         150 non-null    float64\n",
      " 1   Date          132 non-null    object \n",
      " 2   Weekly_Sales  136 non-null    float64\n",
      " 3   Holiday_Flag  138 non-null    float64\n",
      " 4   Temperature   132 non-null    float64\n",
      " 5   Fuel_Price    136 non-null    float64\n",
      " 6   CPI           138 non-null    float64\n",
      " 7   Unemployment  135 non-null    float64\n",
      "dtypes: float64(7), object(1)\n",
      "memory usage: 9.5+ KB\n"
     ]
    }
   ],
   "source": [
    "dataset.info()"
   ]
  },
  {
   "cell_type": "code",
   "execution_count": 5,
   "metadata": {},
   "outputs": [],
   "source": [
    "dataset=dataset.drop([\"Date\",\"Holiday_Flag\"], axis=1) #suppression des colonnes inutiles"
   ]
  },
  {
   "cell_type": "code",
   "execution_count": 6,
   "metadata": {},
   "outputs": [],
   "source": [
    "dataset = dataset.dropna() #suppression des valeurs Nan"
   ]
  },
  {
   "cell_type": "code",
   "execution_count": 7,
   "metadata": {},
   "outputs": [
    {
     "data": {
      "text/plain": [
       "(94, 6)"
      ]
     },
     "execution_count": 7,
     "metadata": {},
     "output_type": "execute_result"
    }
   ],
   "source": [
    "dataset.shape\n"
   ]
  },
  {
   "cell_type": "code",
   "execution_count": 8,
   "metadata": {},
   "outputs": [],
   "source": [
    "z = np.abs(stats.zscore(dataset)) # Nettoyage des outliers avec Z score méthode"
   ]
  },
  {
   "cell_type": "code",
   "execution_count": 9,
   "metadata": {},
   "outputs": [],
   "source": [
    "data_clean = dataset[(z<3).all(axis=1)]"
   ]
  },
  {
   "cell_type": "code",
   "execution_count": 10,
   "metadata": {},
   "outputs": [
    {
     "data": {
      "text/plain": [
       "(90, 6)"
      ]
     },
     "execution_count": 10,
     "metadata": {},
     "output_type": "execute_result"
    }
   ],
   "source": [
    "data_clean.shape"
   ]
  },
  {
   "cell_type": "code",
   "execution_count": 11,
   "metadata": {},
   "outputs": [],
   "source": [
    "cols = list(data_clean.columns.values) #Make a list of all of the columns in the df\n",
    "cols.pop(cols.index('Weekly_Sales'))\n",
    "cols.pop(cols.index('Store')) \n",
    "cols.pop(cols.index('Temperature'))\n",
    "cols.pop(cols.index('Fuel_Price'))\n",
    "cols.pop(cols.index('CPI'))\n",
    "cols.pop(cols.index('Unemployment'))\n",
    "data_clean = data_clean[cols+['Weekly_Sales','Store','Temperature','Fuel_Price','CPI','Unemployment']] #Create new dataframe with columns in the order you want"
   ]
  },
  {
   "cell_type": "code",
   "execution_count": 12,
   "metadata": {},
   "outputs": [
    {
     "data": {
      "text/html": [
       "<div>\n",
       "<style scoped>\n",
       "    .dataframe tbody tr th:only-of-type {\n",
       "        vertical-align: middle;\n",
       "    }\n",
       "\n",
       "    .dataframe tbody tr th {\n",
       "        vertical-align: top;\n",
       "    }\n",
       "\n",
       "    .dataframe thead th {\n",
       "        text-align: right;\n",
       "    }\n",
       "</style>\n",
       "<table border=\"1\" class=\"dataframe\">\n",
       "  <thead>\n",
       "    <tr style=\"text-align: right;\">\n",
       "      <th></th>\n",
       "      <th>Weekly_Sales</th>\n",
       "      <th>Store</th>\n",
       "      <th>Temperature</th>\n",
       "      <th>Fuel_Price</th>\n",
       "      <th>CPI</th>\n",
       "      <th>Unemployment</th>\n",
       "    </tr>\n",
       "  </thead>\n",
       "  <tbody>\n",
       "    <tr>\n",
       "      <th>0</th>\n",
       "      <td>1572117.54</td>\n",
       "      <td>6.0</td>\n",
       "      <td>59.61</td>\n",
       "      <td>3.045</td>\n",
       "      <td>214.777523</td>\n",
       "      <td>6.858</td>\n",
       "    </tr>\n",
       "    <tr>\n",
       "      <th>1</th>\n",
       "      <td>1807545.43</td>\n",
       "      <td>13.0</td>\n",
       "      <td>42.38</td>\n",
       "      <td>3.435</td>\n",
       "      <td>128.616064</td>\n",
       "      <td>7.470</td>\n",
       "    </tr>\n",
       "    <tr>\n",
       "      <th>4</th>\n",
       "      <td>1644470.66</td>\n",
       "      <td>6.0</td>\n",
       "      <td>78.89</td>\n",
       "      <td>2.759</td>\n",
       "      <td>212.412888</td>\n",
       "      <td>7.092</td>\n",
       "    </tr>\n",
       "    <tr>\n",
       "      <th>6</th>\n",
       "      <td>695396.19</td>\n",
       "      <td>15.0</td>\n",
       "      <td>69.80</td>\n",
       "      <td>4.069</td>\n",
       "      <td>134.855161</td>\n",
       "      <td>7.658</td>\n",
       "    </tr>\n",
       "    <tr>\n",
       "      <th>7</th>\n",
       "      <td>2203523.20</td>\n",
       "      <td>20.0</td>\n",
       "      <td>39.93</td>\n",
       "      <td>3.617</td>\n",
       "      <td>213.023623</td>\n",
       "      <td>6.961</td>\n",
       "    </tr>\n",
       "    <tr>\n",
       "      <th>...</th>\n",
       "      <td>...</td>\n",
       "      <td>...</td>\n",
       "      <td>...</td>\n",
       "      <td>...</td>\n",
       "      <td>...</td>\n",
       "      <td>...</td>\n",
       "    </tr>\n",
       "    <tr>\n",
       "      <th>139</th>\n",
       "      <td>532739.77</td>\n",
       "      <td>7.0</td>\n",
       "      <td>50.60</td>\n",
       "      <td>3.804</td>\n",
       "      <td>197.588605</td>\n",
       "      <td>8.090</td>\n",
       "    </tr>\n",
       "    <tr>\n",
       "      <th>143</th>\n",
       "      <td>396968.80</td>\n",
       "      <td>3.0</td>\n",
       "      <td>78.53</td>\n",
       "      <td>2.705</td>\n",
       "      <td>214.495838</td>\n",
       "      <td>7.343</td>\n",
       "    </tr>\n",
       "    <tr>\n",
       "      <th>144</th>\n",
       "      <td>424513.08</td>\n",
       "      <td>3.0</td>\n",
       "      <td>73.44</td>\n",
       "      <td>3.594</td>\n",
       "      <td>226.968844</td>\n",
       "      <td>6.034</td>\n",
       "    </tr>\n",
       "    <tr>\n",
       "      <th>145</th>\n",
       "      <td>2248645.59</td>\n",
       "      <td>14.0</td>\n",
       "      <td>72.62</td>\n",
       "      <td>2.780</td>\n",
       "      <td>182.442420</td>\n",
       "      <td>8.899</td>\n",
       "    </tr>\n",
       "    <tr>\n",
       "      <th>149</th>\n",
       "      <td>1255087.26</td>\n",
       "      <td>19.0</td>\n",
       "      <td>55.20</td>\n",
       "      <td>4.170</td>\n",
       "      <td>137.923067</td>\n",
       "      <td>8.150</td>\n",
       "    </tr>\n",
       "  </tbody>\n",
       "</table>\n",
       "<p>90 rows × 6 columns</p>\n",
       "</div>"
      ],
      "text/plain": [
       "     Weekly_Sales  Store  Temperature  Fuel_Price         CPI  Unemployment\n",
       "0      1572117.54    6.0        59.61       3.045  214.777523         6.858\n",
       "1      1807545.43   13.0        42.38       3.435  128.616064         7.470\n",
       "4      1644470.66    6.0        78.89       2.759  212.412888         7.092\n",
       "6       695396.19   15.0        69.80       4.069  134.855161         7.658\n",
       "7      2203523.20   20.0        39.93       3.617  213.023623         6.961\n",
       "..            ...    ...          ...         ...         ...           ...\n",
       "139     532739.77    7.0        50.60       3.804  197.588605         8.090\n",
       "143     396968.80    3.0        78.53       2.705  214.495838         7.343\n",
       "144     424513.08    3.0        73.44       3.594  226.968844         6.034\n",
       "145    2248645.59   14.0        72.62       2.780  182.442420         8.899\n",
       "149    1255087.26   19.0        55.20       4.170  137.923067         8.150\n",
       "\n",
       "[90 rows x 6 columns]"
      ]
     },
     "execution_count": 12,
     "metadata": {},
     "output_type": "execute_result"
    }
   ],
   "source": [
    "data_clean"
   ]
  },
  {
   "cell_type": "code",
   "execution_count": 13,
   "metadata": {},
   "outputs": [
    {
     "name": "stdout",
     "output_type": "stream",
     "text": [
      "Separating labels from features...\n",
      "...Done.\n",
      "0    1572117.54\n",
      "1    1807545.43\n",
      "4    1644470.66\n",
      "6     695396.19\n",
      "7    2203523.20\n",
      "Name: Weekly_Sales, dtype: float64\n",
      "\n",
      "   Store  Temperature  Fuel_Price         CPI  Unemployment\n",
      "0    6.0        59.61       3.045  214.777523         6.858\n",
      "1   13.0        42.38       3.435  128.616064         7.470\n",
      "4    6.0        78.89       2.759  212.412888         7.092\n",
      "6   15.0        69.80       4.069  134.855161         7.658\n",
      "7   20.0        39.93       3.617  213.023623         6.961\n",
      "\n"
     ]
    }
   ],
   "source": [
    "# Separate target variable Y from features X\n",
    "target_name = 'Weekly_Sales'\n",
    "\n",
    "print(\"Separating labels from features...\")\n",
    "Y = data_clean.loc[:,target_name]\n",
    "X = data_clean.loc[:,[c for c in data_clean.columns if c!=target_name]] #Toutes les colonnes du df sauf la target Y\n",
    "print(\"...Done.\")\n",
    "print(Y.head())\n",
    "print()\n",
    "print(X.head())\n",
    "print()\n"
   ]
  },
  {
   "cell_type": "code",
   "execution_count": 14,
   "metadata": {},
   "outputs": [],
   "source": [
    "X_train, X_test, Y_train, Y_test = train_test_split(X, Y, test_size = 0.2)"
   ]
  },
  {
   "cell_type": "code",
   "execution_count": 15,
   "metadata": {},
   "outputs": [
    {
     "data": {
      "text/plain": [
       "array([[ 0.59601449, -1.28727936,  0.74688342,  0.27062811,  0.98416506],\n",
       "       [-1.50915367,  0.78594741, -1.01456877,  0.79358246,  0.33085375],\n",
       "       [ 0.59601449,  0.66788335, -1.16955981,  0.08180614,  1.48793597],\n",
       "       [-1.18528165, -0.01535774,  0.45365714,  1.14556894, -0.70320231],\n",
       "       [ 0.7579505 , -0.70953069,  1.42968178, -1.06280323,  0.47403074],\n",
       "       [-0.86140962,  0.01689124, -0.08671702,  1.00364601, -1.26848629],\n",
       "       [-0.05172956, -0.15200596,  1.13854997, -1.23985022,  0.05192376],\n",
       "       [ 0.43407848,  0.84989878,  0.56047529, -1.27670113, -0.65653722],\n",
       "       [-0.86140962,  0.92806156,  1.17415601,  0.95170508, -1.0680385 ],\n",
       "       [-1.34721766,  0.87558864,  0.93748051,  0.91649573,  0.4613039 ],\n",
       "       [ 1.40569455, -1.4835062 ,  0.94376393, -1.15531615,  0.29161265],\n",
       "       [ 0.59601449, -1.01890226,  0.60027028,  0.14692232,  1.11673635],\n",
       "       [ 1.24375854,  0.5110112 ,  0.99822024, -1.11734647,  1.47839083],\n",
       "       [ 1.56763057, -1.72455366, -0.33386489,  0.64828777, -0.01277103],\n",
       "       [ 0.91988652, -0.89919842,  1.0254484 ,  0.34689197, -1.22712405],\n",
       "       [-0.5375376 , -0.13998092,  0.53953055,  0.48120273,  0.39873025],\n",
       "       [-1.50915367, -1.19654494, -1.65547766,  0.81666814,  0.6469037 ],\n",
       "       [ 0.59601449,  0.98764018,  0.8830242 ,  0.17615408,  1.1973397 ],\n",
       "       [ 1.24375854, -0.51549022,  1.44643757, -1.02893517,  0.79220184],\n",
       "       [-0.5375376 , -1.15336411,  1.25165153,  0.47170277,  0.62993458],\n",
       "       [ 1.08182253, -0.01809071, -1.01666324, -1.35240739, -0.64805265],\n",
       "       [-1.18528165,  1.21884897,  0.01591218,  1.17554651, -0.8824387 ],\n",
       "       [ 0.7579505 ,  1.06962911,  1.32705258, -1.10645003,  0.32873261],\n",
       "       [ 0.11020645,  0.51921009, -1.26381112,  0.91412068,  0.07207459],\n",
       "       [-1.18528165,  0.71270397,  0.5353416 ,  1.2179541 , -1.550598  ],\n",
       "       [-0.69947361, -0.04323398, -0.61452434,  0.90687714, -0.67668805],\n",
       "       [-1.02334563, -0.98392031, -1.00200193, -1.3381489 , -0.39139464],\n",
       "       [ 0.7579505 ,  0.51374416,  1.53021651, -1.13244287,  0.1717682 ],\n",
       "       [-1.18528165,  0.80835772,  0.73222211,  1.17371669, -0.8824387 ],\n",
       "       [ 1.40569455, -0.52696867,  1.64541255, -1.0513512 ,  0.6935688 ],\n",
       "       [-1.18528165, -0.80299807, -1.60521029,  0.89787904, -0.13579719],\n",
       "       [-0.21366557,  1.23470016, -1.46906952,  0.91297873, -1.17939838],\n",
       "       [ 1.40569455,  0.6793618 , -0.85119984, -1.19002732,  0.63947971],\n",
       "       [-1.02334563, -1.30968967, -0.39669909, -1.25892946, -2.49556615],\n",
       "       [ 1.40569455, -1.16593574, -0.78627116, -1.20878836,  0.90568286],\n",
       "       [-0.37560158,  0.79359971, -1.50677004,  0.91092801, -1.25257774],\n",
       "       [ 0.43407848, -0.9850135 ,  0.20232032, -1.29164131, -0.02761902],\n",
       "       [ 1.24375854,  0.7252756 , -1.14442613, -1.189624  ,  1.95776862],\n",
       "       [ 1.56763057,  0.80726453, -1.11091455,  0.64635668,  0.38176112],\n",
       "       [-1.50915367,  0.10106654, -0.06367781,  0.99472927,  0.39236683],\n",
       "       [ 1.24375854, -2.1355915 , -1.15280402, -1.21734207,  1.80928877],\n",
       "       [ 1.24375854, -0.45809797, -0.96430141, -1.18581796,  1.94610234],\n",
       "       [-0.69947361,  0.46509739, -1.16955981,  0.83330736, -0.4285146 ],\n",
       "       [-0.05172956,  1.53259328, -0.47419461, -1.35511837,  1.80610706],\n",
       "       [ 0.43407848,  0.17485658,  0.64844317, -1.26861878, -0.65653722],\n",
       "       [-0.86140962,  1.58615938,  0.71965527,  0.93925507, -1.02561569],\n",
       "       [-0.5375376 , -0.53571416,  0.97518103,  0.46828017,  0.62993458],\n",
       "       [-0.5375376 , -1.21020976, -1.28475585,  0.26711549,  1.55581247],\n",
       "       [ 1.08182253, -0.85164484,  0.96051972, -1.22804792, -2.08830715],\n",
       "       [-1.50915367,  1.70804959,  0.72384422,  0.92645054,  0.49418158],\n",
       "       [-1.18528165,  1.08165416,  0.26934347,  1.03353906,  0.0752563 ],\n",
       "       [-1.02334563,  1.32215502,  0.27353242, -1.27897413, -1.96422042],\n",
       "       [ 1.56763057, -1.11892875,  0.58351449,  0.86212415, -0.56744931],\n",
       "       [-1.18528165,  0.99091974, -1.32664532,  0.8996896 , -0.16231145],\n",
       "       [ 0.43407848, -1.29110551, -1.09206429, -1.3381489 ,  0.31706633],\n",
       "       [ 1.40569455,  0.31970369, -0.79674353, -1.19197983,  0.63947971],\n",
       "       [-0.21366557, -0.5706961 , -1.18841007,  0.92371181, -0.99273801],\n",
       "       [ 1.56763057, -1.12658105,  0.83904026,  0.87357812, -0.56744931],\n",
       "       [ 1.40569455, -0.28428144,  1.74175833, -1.05416139,  0.6935688 ],\n",
       "       [-0.69947361,  1.01059708, -1.21354375,  0.84654049, -0.4285146 ],\n",
       "       [ 0.11020645, -0.4171035 ,  0.35940583,  1.14008283, -0.70320231],\n",
       "       [-0.69947361,  0.7564314 ,  0.98146445,  0.96396139, -0.67986976],\n",
       "       [ 0.91988652, -0.66197711,  0.86207947,  0.46380772, -1.41484499],\n",
       "       [ 0.43407848,  1.00677093, -1.09834771, -1.35484164,  0.4825153 ],\n",
       "       [-0.37560158,  1.23087401,  0.45156266,  1.01641013, -1.135915  ],\n",
       "       [-0.5375376 , -1.30039759,  0.89768552,  0.34675806,  1.16552259],\n",
       "       [-0.05172956,  1.4467782 ,  0.68614369, -1.2379661 , -0.34579011],\n",
       "       [-1.34721766, -0.31543723,  0.45365714,  1.0471763 , -0.46563456],\n",
       "       [-1.50915367,  1.35659037, -1.50677004,  0.82496439,  0.30858177],\n",
       "       [-0.5375376 , -2.27442609, -0.49304488,  0.45120727,  0.80598925],\n",
       "       [-0.05172956, -0.92762125, -0.10766175, -1.32798388,  1.32354757],\n",
       "       [-0.37560158,  0.81546343, -1.58426556,  0.90945513, -1.25257774]])"
      ]
     },
     "execution_count": 15,
     "metadata": {},
     "output_type": "execute_result"
    }
   ],
   "source": [
    "\n",
    "sc_x = StandardScaler()\n",
    "X_train = sc_x.fit_transform(X_train)\n",
    "X_test = sc_x.transform(X_test) ### NO fit on X_test\n",
    "X_train"
   ]
  },
  {
   "cell_type": "code",
   "execution_count": 16,
   "metadata": {},
   "outputs": [
    {
     "data": {
      "text/plain": [
       "LinearRegression()"
      ]
     },
     "execution_count": 16,
     "metadata": {},
     "output_type": "execute_result"
    }
   ],
   "source": [
    "regressor = LinearRegression()\n",
    "regressor.fit(X_train, Y_train)"
   ]
  },
  {
   "cell_type": "code",
   "execution_count": 17,
   "metadata": {},
   "outputs": [
    {
     "data": {
      "text/plain": [
       "0.14813442423116552"
      ]
     },
     "execution_count": 17,
     "metadata": {},
     "output_type": "execute_result"
    }
   ],
   "source": [
    "regressor.score(X_train, Y_train)"
   ]
  },
  {
   "cell_type": "code",
   "execution_count": 18,
   "metadata": {},
   "outputs": [
    {
     "data": {
      "text/plain": [
       "0.06518039676435239"
      ]
     },
     "execution_count": 18,
     "metadata": {},
     "output_type": "execute_result"
    }
   ],
   "source": [
    "regressor.score(X_test, Y_test)"
   ]
  },
  {
   "cell_type": "markdown",
   "metadata": {},
   "source": [
    "Mon modèle est en surapprentissage\n",
    "score(train)>>score(test) : the model is overfitting\n"
   ]
  },
  {
   "cell_type": "code",
   "execution_count": 19,
   "metadata": {},
   "outputs": [
    {
     "data": {
      "text/plain": [
       "array([  14851.08620487,   -9863.90793364, -117946.87651835,\n",
       "       -227157.60561974,     649.34446255])"
      ]
     },
     "execution_count": 19,
     "metadata": {},
     "output_type": "execute_result"
    }
   ],
   "source": [
    "regressor.coef_"
   ]
  },
  {
   "cell_type": "code",
   "execution_count": 20,
   "metadata": {},
   "outputs": [
    {
     "data": {
      "text/html": [
       "<div>\n",
       "<style scoped>\n",
       "    .dataframe tbody tr th:only-of-type {\n",
       "        vertical-align: middle;\n",
       "    }\n",
       "\n",
       "    .dataframe tbody tr th {\n",
       "        vertical-align: top;\n",
       "    }\n",
       "\n",
       "    .dataframe thead th {\n",
       "        text-align: right;\n",
       "    }\n",
       "</style>\n",
       "<table border=\"1\" class=\"dataframe\">\n",
       "  <thead>\n",
       "    <tr style=\"text-align: right;\">\n",
       "      <th></th>\n",
       "      <th>coefficients</th>\n",
       "    </tr>\n",
       "  </thead>\n",
       "  <tbody>\n",
       "    <tr>\n",
       "      <th>Store</th>\n",
       "      <td>14851.086205</td>\n",
       "    </tr>\n",
       "    <tr>\n",
       "      <th>Temperature</th>\n",
       "      <td>-9863.907934</td>\n",
       "    </tr>\n",
       "    <tr>\n",
       "      <th>Fuel_Price</th>\n",
       "      <td>-117946.876518</td>\n",
       "    </tr>\n",
       "    <tr>\n",
       "      <th>CPI</th>\n",
       "      <td>-227157.605620</td>\n",
       "    </tr>\n",
       "    <tr>\n",
       "      <th>Unemployment</th>\n",
       "      <td>649.344463</td>\n",
       "    </tr>\n",
       "  </tbody>\n",
       "</table>\n",
       "</div>"
      ],
      "text/plain": [
       "               coefficients\n",
       "Store          14851.086205\n",
       "Temperature    -9863.907934\n",
       "Fuel_Price   -117946.876518\n",
       "CPI          -227157.605620\n",
       "Unemployment     649.344463"
      ]
     },
     "execution_count": 20,
     "metadata": {},
     "output_type": "execute_result"
    }
   ],
   "source": [
    "coefs = pd.DataFrame(index=data_clean.columns[1: ], data = regressor.coef_.transpose(), columns=[\"coefficients\"])\n",
    "coefs"
   ]
  },
  {
   "cell_type": "code",
   "execution_count": 21,
   "metadata": {},
   "outputs": [
    {
     "data": {
      "text/html": [
       "<div>\n",
       "<style scoped>\n",
       "    .dataframe tbody tr th:only-of-type {\n",
       "        vertical-align: middle;\n",
       "    }\n",
       "\n",
       "    .dataframe tbody tr th {\n",
       "        vertical-align: top;\n",
       "    }\n",
       "\n",
       "    .dataframe thead th {\n",
       "        text-align: right;\n",
       "    }\n",
       "</style>\n",
       "<table border=\"1\" class=\"dataframe\">\n",
       "  <thead>\n",
       "    <tr style=\"text-align: right;\">\n",
       "      <th></th>\n",
       "      <th>coefficients</th>\n",
       "    </tr>\n",
       "  </thead>\n",
       "  <tbody>\n",
       "    <tr>\n",
       "      <th>CPI</th>\n",
       "      <td>227157.605620</td>\n",
       "    </tr>\n",
       "    <tr>\n",
       "      <th>Fuel_Price</th>\n",
       "      <td>117946.876518</td>\n",
       "    </tr>\n",
       "    <tr>\n",
       "      <th>Store</th>\n",
       "      <td>14851.086205</td>\n",
       "    </tr>\n",
       "    <tr>\n",
       "      <th>Temperature</th>\n",
       "      <td>9863.907934</td>\n",
       "    </tr>\n",
       "    <tr>\n",
       "      <th>Unemployment</th>\n",
       "      <td>649.344463</td>\n",
       "    </tr>\n",
       "  </tbody>\n",
       "</table>\n",
       "</div>"
      ],
      "text/plain": [
       "               coefficients\n",
       "CPI           227157.605620\n",
       "Fuel_Price    117946.876518\n",
       "Store          14851.086205\n",
       "Temperature     9863.907934\n",
       "Unemployment     649.344463"
      ]
     },
     "execution_count": 21,
     "metadata": {},
     "output_type": "execute_result"
    }
   ],
   "source": [
    "coefs.apply(lambda x : abs(x)).sort_values(by=\"coefficients\", ascending=False)"
   ]
  },
  {
   "cell_type": "markdown",
   "metadata": {},
   "source": [
    "The most influential column is CPI"
   ]
  },
  {
   "cell_type": "code",
   "execution_count": 22,
   "metadata": {},
   "outputs": [
    {
     "data": {
      "text/plain": [
       "(array([2.64623589, 0.42332524, 1.28415263, 9.22504907, 1.20176969]),\n",
       " array([0.10828907, 0.51741243, 0.26099474, 0.00335283, 0.27672546]))"
      ]
     },
     "execution_count": 22,
     "metadata": {},
     "output_type": "execute_result"
    }
   ],
   "source": [
    "from sklearn.feature_selection import f_regression\n",
    "feature_importance = f_regression(X_train, Y_train)\n",
    "feature_importance"
   ]
  },
  {
   "cell_type": "code",
   "execution_count": 23,
   "metadata": {},
   "outputs": [
    {
     "data": {
      "text/html": [
       "<div>\n",
       "<style scoped>\n",
       "    .dataframe tbody tr th:only-of-type {\n",
       "        vertical-align: middle;\n",
       "    }\n",
       "\n",
       "    .dataframe tbody tr th {\n",
       "        vertical-align: top;\n",
       "    }\n",
       "\n",
       "    .dataframe thead th {\n",
       "        text-align: right;\n",
       "    }\n",
       "</style>\n",
       "<table border=\"1\" class=\"dataframe\">\n",
       "  <thead>\n",
       "    <tr style=\"text-align: right;\">\n",
       "      <th></th>\n",
       "      <th>X</th>\n",
       "      <th>f-score</th>\n",
       "      <th>p-value</th>\n",
       "    </tr>\n",
       "  </thead>\n",
       "  <tbody>\n",
       "    <tr>\n",
       "      <th>0</th>\n",
       "      <td>CPI</td>\n",
       "      <td>9.225049</td>\n",
       "      <td>0.003353</td>\n",
       "    </tr>\n",
       "    <tr>\n",
       "      <th>1</th>\n",
       "      <td>Store</td>\n",
       "      <td>2.646236</td>\n",
       "      <td>0.108289</td>\n",
       "    </tr>\n",
       "    <tr>\n",
       "      <th>2</th>\n",
       "      <td>Fuel_Price</td>\n",
       "      <td>1.284153</td>\n",
       "      <td>0.260995</td>\n",
       "    </tr>\n",
       "    <tr>\n",
       "      <th>3</th>\n",
       "      <td>Unemployment</td>\n",
       "      <td>1.201770</td>\n",
       "      <td>0.276725</td>\n",
       "    </tr>\n",
       "    <tr>\n",
       "      <th>4</th>\n",
       "      <td>Temperature</td>\n",
       "      <td>0.423325</td>\n",
       "      <td>0.517412</td>\n",
       "    </tr>\n",
       "  </tbody>\n",
       "</table>\n",
       "</div>"
      ],
      "text/plain": [
       "              X   f-score   p-value\n",
       "0           CPI  9.225049  0.003353\n",
       "1         Store  2.646236  0.108289\n",
       "2    Fuel_Price  1.284153  0.260995\n",
       "3  Unemployment  1.201770  0.276725\n",
       "4   Temperature  0.423325  0.517412"
      ]
     },
     "execution_count": 23,
     "metadata": {},
     "output_type": "execute_result"
    }
   ],
   "source": [
    "# Create DataFrame with feature importance\n",
    "feature_ranking = pd.DataFrame(columns=data_clean.columns[1: ], data=feature_importance, index=[\"f-score\", \"p-value\"])\n",
    "# Reshape DataFrame and sort by f-score\n",
    "feature_ranking = feature_ranking.transpose().sort_values([\"f-score\", \"p-value\"], ascending=False)\n",
    "# Create column with feature names\n",
    "feature_ranking = feature_ranking.reset_index().rename(columns = {'index': 'X'})\n",
    "feature_ranking"
   ]
  },
  {
   "cell_type": "markdown",
   "metadata": {},
   "source": [
    "The most influential column is CPI\n"
   ]
  },
  {
   "cell_type": "markdown",
   "metadata": {},
   "source": [
    "Rappels définitions : \n",
    "    f-score : Le score F ou mesure F est une mesure de l’exactitude d’un test. Il est calculé à partir de la précision et du rappel du test, où la précision est le nombre de vrais résultats positifs divisé par le nombre de tous les résultats positifs, y compris ceux qui n’ont pas été identifiés correctement, et le rappel est le nombre de vrais résultats positifs divisé par le nombre de tous les échantillons qui auraient dû être identifiés comme positifs.\n",
    "    p-value : La p-valeur est utilisée pour quantifier la significativité statistique d'un résultat dans le cadre d'une hypothèse nulle. L'idée générale est de déterminer si l'hypothèse nulle est ou n'est pas vérifiée car dans le cas où elle le serait, le résultat observé serait fortement improbable. Il s'agit à ce titre d'une extension du principe de preuve par l'absurde."
   ]
  },
  {
   "cell_type": "markdown",
   "metadata": {},
   "source": [
    "LASSO (le lasso est une méthode de contraction des coefficients de la régression)\n"
   ]
  },
  {
   "cell_type": "code",
   "execution_count": 24,
   "metadata": {},
   "outputs": [],
   "source": [
    "lin = LinearRegression()\n",
    "lasso1 = Lasso(alpha = 1)\n",
    "lasso001 = Lasso(alpha = 0.01)\n",
    "lasso00001 = Lasso(alpha = 0.0001)"
   ]
  },
  {
   "cell_type": "code",
   "execution_count": 25,
   "metadata": {},
   "outputs": [
    {
     "data": {
      "text/plain": [
       "Lasso(alpha=0.0001)"
      ]
     },
     "execution_count": 25,
     "metadata": {},
     "output_type": "execute_result"
    }
   ],
   "source": [
    "lin.fit(X_train, Y_train)\n",
    "lasso1.fit(X_train, Y_train)\n",
    "lasso001.fit(X_train, Y_train)\n",
    "lasso00001.fit(X_train, Y_train)"
   ]
  },
  {
   "cell_type": "code",
   "execution_count": 26,
   "metadata": {},
   "outputs": [
    {
     "name": "stdout",
     "output_type": "stream",
     "text": [
      "Train scores \n",
      "\n",
      "Score Baseline : 0.0 \n",
      "Score Lin : 0.14813442423116552 \n",
      "Score Lasso1 : 0.14813442422540712 \n",
      "Score Lasso001 : 0.1481344242311644 \n",
      "Score Lasso00001 : 0.1481344242311653\n"
     ]
    }
   ],
   "source": [
    "baseline_pred = [Y_test.values.mean()]*len(Y_test)\n",
    "print(\"Train scores \\n\")\n",
    "print(\"Score Baseline : {} \\nScore Lin : {} \\nScore Lasso1 : {} \\nScore Lasso001 : {} \\nScore Lasso00001 : {}\".format(r2_score(Y_test, baseline_pred),\n",
    "lin.score(X_train, Y_train),\n",
    "lasso1.score(X_train, Y_train),\n",
    "lasso001.score(X_train, Y_train),\n",
    "lasso00001.score(X_train,Y_train)))"
   ]
  },
  {
   "cell_type": "code",
   "execution_count": 27,
   "metadata": {},
   "outputs": [
    {
     "name": "stdout",
     "output_type": "stream",
     "text": [
      "Test scores \n",
      "\n",
      "Score Baseline : 0.0 \n",
      "Score Lin : 0.06518039676435239 \n",
      "Score Lasso1 : 0.06518185947776534 \n",
      "Score Lasso001 : 0.06518040761152577 \n",
      "Score Lasso00001 : 0.0651803968703688\n"
     ]
    }
   ],
   "source": [
    "baseline_pred = [Y_test.values.mean()]*len(Y_test)\n",
    "print(\"Test scores \\n\")\n",
    "print(\"Score Baseline : {} \\nScore Lin : {} \\nScore Lasso1 : {} \\nScore Lasso001 : {} \\nScore Lasso00001 : {}\".format(r2_score(Y_test, baseline_pred),\n",
    "lin.score(X_test, Y_test),\n",
    "lasso1.score(X_test, Y_test),\n",
    "lasso001.score(X_test, Y_test),\n",
    "lasso00001.score(X_test,Y_test)))"
   ]
  },
  {
   "cell_type": "code",
   "execution_count": 28,
   "metadata": {},
   "outputs": [
    {
     "name": "stdout",
     "output_type": "stream",
     "text": [
      "Train MSE \n",
      "\n",
      "MSE Baseline : 454495325402.7852 \n",
      "MSE Lin : 365472987619.06616 \n",
      "MSE Lasso1 : 365472987621.5367 \n",
      "MSE Lasso001 : 365472987619.06665 \n",
      "MSE Lasso00001 : 365472987619.0662\n"
     ]
    }
   ],
   "source": [
    "print(\"Train MSE \\n\")\n",
    "\n",
    "print(\"MSE Baseline : {} \\nMSE Lin : {} \\nMSE Lasso1 : {} \\nMSE Lasso001 : {} \\nMSE Lasso00001 : {}\".format(mean_squared_error(Y_test, baseline_pred),\n",
    "mean_squared_error(Y_train,lin.predict(X_train)),\n",
    "mean_squared_error(Y_train,lasso1.predict(X_train)),\n",
    "mean_squared_error(Y_train,lasso001.predict(X_train)),\n",
    "mean_squared_error(Y_train,lasso00001.predict(X_train))))"
   ]
  },
  {
   "cell_type": "code",
   "execution_count": 29,
   "metadata": {},
   "outputs": [
    {
     "name": "stdout",
     "output_type": "stream",
     "text": [
      "Test MSE \n",
      "\n",
      "MSE Baseline : 454495325402.7852 \n",
      "MSE Lin : 424871139765.4882 \n",
      "MSE Lasso1 : 424870474969.07965 \n",
      "MSE Lasso001 : 424871134835.49866 \n",
      "MSE Lasso00001 : 424871139717.30426\n"
     ]
    }
   ],
   "source": [
    "print(\"Test MSE \\n\")\n",
    "\n",
    "print(\"MSE Baseline : {} \\nMSE Lin : {} \\nMSE Lasso1 : {} \\nMSE Lasso001 : {} \\nMSE Lasso00001 : {}\".format(mean_squared_error(Y_test, baseline_pred),\n",
    "mean_squared_error(Y_test,lin.predict(X_test)),\n",
    "mean_squared_error(Y_test,lasso1.predict(X_test)),\n",
    "mean_squared_error(Y_test,lasso001.predict(X_test)),\n",
    "mean_squared_error(Y_test,lasso00001.predict(X_test))))"
   ]
  },
  {
   "cell_type": "code",
   "execution_count": 30,
   "metadata": {},
   "outputs": [
    {
     "name": "stdout",
     "output_type": "stream",
     "text": [
      "Linear Regression \n",
      " Proportion of coefficients equal to zero\n",
      "0.0\n"
     ]
    }
   ],
   "source": [
    "print(\"Linear Regression \\n Proportion of coefficients equal to zero\")\n",
    "print(np.sum(lin.coef_==0)/len(lin.coef_))\n"
   ]
  },
  {
   "cell_type": "markdown",
   "metadata": {},
   "source": [
    "RIDGE (La régression de crête est une méthode d’estimation des coefficients des modèles de régression multiple dans des scénarios où les variables indépendantes sont fortement corrélées) "
   ]
  },
  {
   "cell_type": "code",
   "execution_count": 31,
   "metadata": {},
   "outputs": [],
   "source": [
    "linear_regressor = LinearRegression()\n",
    "ridge_regressor_small_alpha = Ridge(alpha = 10)\n",
    "ridge_regressor_large_alpha = Ridge(alpha = 10000)"
   ]
  },
  {
   "cell_type": "code",
   "execution_count": 32,
   "metadata": {},
   "outputs": [
    {
     "data": {
      "text/plain": [
       "Ridge(alpha=10000)"
      ]
     },
     "execution_count": 32,
     "metadata": {},
     "output_type": "execute_result"
    }
   ],
   "source": [
    "linear_regressor.fit(X_train, Y_train)\n",
    "ridge_regressor_small_alpha.fit(X_train, Y_train)\n",
    "ridge_regressor_large_alpha.fit(X_train, Y_train)"
   ]
  },
  {
   "cell_type": "code",
   "execution_count": 33,
   "metadata": {},
   "outputs": [
    {
     "name": "stdout",
     "output_type": "stream",
     "text": [
      "Score on training: \n",
      "Linear Regression score : 0.14813442423116552\n",
      "Ridge with small Alpha score : 0.14540547686372285\n",
      "Ridge with large Alpha score : 0.0027423402624887627\n"
     ]
    }
   ],
   "source": [
    "print(\"Score on training: \")\n",
    "print(\"Linear Regression score : {}\".format(linear_regressor.score(X_train, Y_train)))\n",
    "print(\"Ridge with small Alpha score : {}\".format(ridge_regressor_small_alpha.score(X_train, Y_train)))\n",
    "print(\"Ridge with large Alpha score : {}\".format(ridge_regressor_large_alpha.score(X_train,Y_train)))"
   ]
  },
  {
   "cell_type": "markdown",
   "metadata": {},
   "source": [
    "Plus le coef augmente, plus la valeur est proche de 0"
   ]
  },
  {
   "cell_type": "code",
   "execution_count": 34,
   "metadata": {},
   "outputs": [
    {
     "data": {
      "text/html": [
       "<div>\n",
       "<style scoped>\n",
       "    .dataframe tbody tr th:only-of-type {\n",
       "        vertical-align: middle;\n",
       "    }\n",
       "\n",
       "    .dataframe tbody tr th {\n",
       "        vertical-align: top;\n",
       "    }\n",
       "\n",
       "    .dataframe thead th {\n",
       "        text-align: right;\n",
       "    }\n",
       "</style>\n",
       "<table border=\"1\" class=\"dataframe\">\n",
       "  <thead>\n",
       "    <tr style=\"text-align: right;\">\n",
       "      <th></th>\n",
       "      <th>X</th>\n",
       "      <th>coef_linear_regressor</th>\n",
       "      <th>coef_ridge_small_alpha</th>\n",
       "      <th>coef_ridge_large_alpha</th>\n",
       "    </tr>\n",
       "  </thead>\n",
       "  <tbody>\n",
       "    <tr>\n",
       "      <th>0</th>\n",
       "      <td>Store</td>\n",
       "      <td>14851.086205</td>\n",
       "      <td>26913.428417</td>\n",
       "      <td>885.903229</td>\n",
       "    </tr>\n",
       "    <tr>\n",
       "      <th>1</th>\n",
       "      <td>Temperature</td>\n",
       "      <td>-9863.907934</td>\n",
       "      <td>-9324.924306</td>\n",
       "      <td>-358.336066</td>\n",
       "    </tr>\n",
       "    <tr>\n",
       "      <th>2</th>\n",
       "      <td>Fuel_Price</td>\n",
       "      <td>-117946.876518</td>\n",
       "      <td>-101002.409383</td>\n",
       "      <td>-630.731880</td>\n",
       "    </tr>\n",
       "    <tr>\n",
       "      <th>3</th>\n",
       "      <td>CPI</td>\n",
       "      <td>-227157.605620</td>\n",
       "      <td>-189702.197596</td>\n",
       "      <td>-1592.950956</td>\n",
       "    </tr>\n",
       "    <tr>\n",
       "      <th>4</th>\n",
       "      <td>Unemployment</td>\n",
       "      <td>649.344463</td>\n",
       "      <td>8546.742908</td>\n",
       "      <td>602.083767</td>\n",
       "    </tr>\n",
       "  </tbody>\n",
       "</table>\n",
       "</div>"
      ],
      "text/plain": [
       "              X  coef_linear_regressor  coef_ridge_small_alpha  \\\n",
       "0         Store           14851.086205            26913.428417   \n",
       "1   Temperature           -9863.907934            -9324.924306   \n",
       "2    Fuel_Price         -117946.876518          -101002.409383   \n",
       "3           CPI         -227157.605620          -189702.197596   \n",
       "4  Unemployment             649.344463             8546.742908   \n",
       "\n",
       "   coef_ridge_large_alpha  \n",
       "0              885.903229  \n",
       "1             -358.336066  \n",
       "2             -630.731880  \n",
       "3            -1592.950956  \n",
       "4              602.083767  "
      ]
     },
     "execution_count": 34,
     "metadata": {},
     "output_type": "execute_result"
    }
   ],
   "source": [
    "coef = pd.DataFrame()\n",
    "coef['X'] = X.columns\n",
    "coef['coef_linear_regressor'] = linear_regressor.coef_\n",
    "coef['coef_ridge_small_alpha'] = ridge_regressor_small_alpha.coef_\n",
    "coef['coef_ridge_large_alpha'] = ridge_regressor_large_alpha.coef_\n",
    "coef"
   ]
  }
 ],
 "metadata": {
  "kernelspec": {
   "display_name": "Python 3 (ipykernel)",
   "language": "python",
   "name": "python3"
  },
  "language_info": {
   "codemirror_mode": {
    "name": "ipython",
    "version": 3
   },
   "file_extension": ".py",
   "mimetype": "text/x-python",
   "name": "python",
   "nbconvert_exporter": "python",
   "pygments_lexer": "ipython3",
   "version": "3.9.7"
  }
 },
 "nbformat": 4,
 "nbformat_minor": 4
}
